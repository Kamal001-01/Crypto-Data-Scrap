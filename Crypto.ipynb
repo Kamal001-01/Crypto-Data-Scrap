{
 "cells": [
  {
   "cell_type": "code",
   "execution_count": 9,
   "id": "b17ab56f-9de2-4a14-8889-adc36dc3fa03",
   "metadata": {},
   "outputs": [],
   "source": [
    "import requests\n",
    "from bs4 import BeautifulSoup\n",
    "import csv\n",
    "from datetime import datetime"
   ]
  },
  {
   "cell_type": "code",
   "execution_count": 10,
   "id": "86990335-b119-4bc0-8894-a9321bc6fb9e",
   "metadata": {},
   "outputs": [],
   "source": [
    "url = 'https://www.binance.com/en/markets/overview'\n",
    "headers = {'User-Agent': 'Mozilla/5.0 (Windows NT 10.0; Win64; x64) AppleWebKit/537.36 (KHTML, like Gecko) Chrome/128.0.0.0 Safari/537.36'}\n",
    "response = requests.get(url, headers=headers)"
   ]
  },
  {
   "cell_type": "code",
   "execution_count": 12,
   "id": "d459a4ef-4a81-49d5-8362-72420f1c6efa",
   "metadata": {},
   "outputs": [],
   "source": [
    "soup = BeautifulSoup(response.content,'html.parser')"
   ]
  },
  {
   "cell_type": "code",
   "execution_count": 15,
   "id": "d3fb50c4-205a-4a47-81af-f40aadc2d56d",
   "metadata": {},
   "outputs": [
    {
     "data": {
      "text/plain": [
       "<Response [200]>"
      ]
     },
     "execution_count": 15,
     "metadata": {},
     "output_type": "execute_result"
    }
   ],
   "source": [
    "response"
   ]
  },
  {
   "cell_type": "code",
   "execution_count": 17,
   "id": "e4e9d0b5-9bcc-4a1e-b96e-9c68defeb983",
   "metadata": {},
   "outputs": [
    {
     "data": {
      "text/plain": [
       "<div id=\"__APP_TOP_PORTAL\"></div>"
      ]
     },
     "execution_count": 17,
     "metadata": {},
     "output_type": "execute_result"
    }
   ],
   "source": [
    "soup.div"
   ]
  },
  {
   "cell_type": "code",
   "execution_count": 25,
   "id": "36ea5896-471d-4c6f-84dc-2aa049674380",
   "metadata": {},
   "outputs": [],
   "source": [
    "name = soup.find_all('div', class_='body3 text-t-third line-clamp-1 css-vurnku')\n",
    "price = soup.find_all('div', class_='body2 items-center css-18yakpx')\n",
    "volume_24h = soup.find_all('div', class_='body2 text-t-primary css-18yakpx')\n",
    "market_cap = soup.find_all('div', class_='body2 text-t-primary css-18yakpx')"
   ]
  },
  {
   "cell_type": "code",
   "execution_count": null,
   "id": "2a11e61d-dff8-4b84-95e6-65f888787bf2",
   "metadata": {},
   "outputs": [],
   "source": [
    "result = zip(name,price,volume_24h,market_cap)"
   ]
  },
  {
   "cell_type": "code",
   "execution_count": 37,
   "id": "59d52442-7f27-470a-8d69-641ea243d72e",
   "metadata": {},
   "outputs": [],
   "source": [
    "with open('Top_Crypto_Currency_In_Binance.csv', mode='w', newline='', encoding='utf-8') as file:\n",
    "    writer = csv.writer(file)\n",
    "    writer.writerow(['Name', 'Price', 'Volume_24h', 'Market_cap'])\n",
    "    \n",
    "    for i in range(len(name)):\n",
    "        writer.writerow([\n",
    "            name[i].text.strip(),\n",
    "            price[i].text.strip(),\n",
    "            volume_24h[i].text.strip(),\n",
    "            market_cap[i].text.strip()\n",
    "        ])"
   ]
  },
  {
   "cell_type": "code",
   "execution_count": null,
   "id": "5036bb69-03a5-4026-91ff-0697e3094bfe",
   "metadata": {},
   "outputs": [],
   "source": []
  }
 ],
 "metadata": {
  "kernelspec": {
   "display_name": "Python 3 (ipykernel)",
   "language": "python",
   "name": "python3"
  },
  "language_info": {
   "codemirror_mode": {
    "name": "ipython",
    "version": 3
   },
   "file_extension": ".py",
   "mimetype": "text/x-python",
   "name": "python",
   "nbconvert_exporter": "python",
   "pygments_lexer": "ipython3",
   "version": "3.11.7"
  }
 },
 "nbformat": 4,
 "nbformat_minor": 5
}
